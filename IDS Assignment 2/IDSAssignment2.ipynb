{
 "cells": [
  {
   "cell_type": "markdown",
   "id": "28e3adb7",
   "metadata": {},
   "source": [
    "# Name: Muhammad Uzair\n",
    "# Roll No. L1F18BSCS0311\n",
    "# Section: G4\n",
    "# IDS Assignment 2"
   ]
  },
  {
   "cell_type": "markdown",
   "id": "2d9a9bfa",
   "metadata": {},
   "source": [
    "# Answer 1"
   ]
  },
  {
   "cell_type": "code",
   "execution_count": 41,
   "id": "f1bab71b",
   "metadata": {},
   "outputs": [
    {
     "name": "stdout",
     "output_type": "stream",
     "text": [
      "Array elements: [['IDS' 'IS']\n",
      " ['NM' 'OBC']\n",
      " ['FYP' 'CC']\n",
      " ['CCN' 'TOA']]\n",
      "Attributes of the array are: \n",
      "Shape: (4, 2)\n",
      "Size: 8\n",
      "Dimension: 2\n",
      "Item Size: 12\n",
      "Data type: <U3\n"
     ]
    }
   ],
   "source": [
    "import numpy as np\n",
    "\n",
    "strArray = np.array([[\"IDS\",\"IS\"],[\"NM\",\"OBC\"],[\"FYP\",\"CC\"],[\"CCN\",\"TOA\"]])\n",
    "print(\"Array elements:\",strArray)\n",
    "print(\"Attributes of the array are: \")\n",
    "shape = strArray.shape\n",
    "size = strArray.size\n",
    "dimension = strArray.ndim\n",
    "itemSize = strArray.itemsize\n",
    "dataType = strArray.dtype\n",
    "print(\"Shape:\",shape)\n",
    "print(\"Size:\",size)\n",
    "print(\"Dimension:\",dimension)\n",
    "print(\"Item Size:\",itemSize)\n",
    "print(\"Data type:\",dataType)"
   ]
  },
  {
   "cell_type": "markdown",
   "id": "22323193",
   "metadata": {},
   "source": [
    "# Answer 2"
   ]
  },
  {
   "cell_type": "code",
   "execution_count": 44,
   "id": "d181b94b",
   "metadata": {},
   "outputs": [
    {
     "name": "stdout",
     "output_type": "stream",
     "text": [
      "[[100 140]\n",
      " [180 220]\n",
      " [260 300]\n",
      " [340 380]\n",
      " [420 460]]\n"
     ]
    }
   ],
   "source": [
    "myArr = np.arange(100, 500, 40)\n",
    "myArr = myArr.reshape(5,2)\n",
    "print(myArr)"
   ]
  },
  {
   "cell_type": "markdown",
   "id": "2c987ea7",
   "metadata": {},
   "source": [
    "# Answer 3"
   ]
  },
  {
   "cell_type": "code",
   "execution_count": 14,
   "id": "9073532a",
   "metadata": {},
   "outputs": [
    {
     "name": "stdout",
     "output_type": "stream",
     "text": [
      "Items in second column: [22 55 88]\n"
     ]
    }
   ],
   "source": [
    "def secondColumn(myArr):\n",
    "    return myArr[:,1]\n",
    "\n",
    "myArr = np.array([[11,22,33],[44,55,66],[77,88,99]])\n",
    "items = secondColumn(myArr)\n",
    "print(\"Items in second column:\",items)"
   ]
  },
  {
   "cell_type": "markdown",
   "id": "7bbb9c25",
   "metadata": {},
   "source": [
    "# Answer 4"
   ]
  },
  {
   "cell_type": "code",
   "execution_count": 21,
   "id": "863277f0",
   "metadata": {},
   "outputs": [
    {
     "name": "stdout",
     "output_type": "stream",
     "text": [
      "Items at even row and odd columns: [[15 21]\n",
      " [39 45]]\n"
     ]
    }
   ],
   "source": [
    "def evenRowsOddColumns(myArr):\n",
    "    return myArr[1::2,0::2]\n",
    "\n",
    "\n",
    "myArr = np.array([[3 ,6, 9, 12],[15 ,18, 21, 24],[27 ,30, 33, 36],[39 ,42, 45, 48],[51 ,54, 57, 60]])\n",
    "items = evenRowsOddColumns(myArr)\n",
    "print(\"Items at even row and odd columns:\",items)"
   ]
  },
  {
   "cell_type": "markdown",
   "id": "1f06074e",
   "metadata": {},
   "source": [
    "# Answer 5"
   ]
  },
  {
   "cell_type": "code",
   "execution_count": 26,
   "id": "3fc4072f",
   "metadata": {},
   "outputs": [
    {
     "name": "stdout",
     "output_type": "stream",
     "text": [
      "Result Array: [[20 39 33]\n",
      " [25 25 28]]\n",
      "Result array after modifying it by taking cube of all elements: [[ 8000 59319 35937]\n",
      " [15625 15625 21952]]\n"
     ]
    }
   ],
   "source": [
    "arrOne = np.array([[5, 6, 9], [21 ,18, 27]])\n",
    "arrTwo = np.array([[15 ,33, 24], [4 ,7, 1]])\n",
    "\n",
    "resultArray = arrOne + arrTwo\n",
    "print(\"Result Array:\",resultArray)\n",
    "\n",
    "resultArray = np.power(resultArray, 3)\n",
    "print(\"Result array after modifying it by taking cube of all elements:\",resultArray)"
   ]
  },
  {
   "cell_type": "markdown",
   "id": "342e23ef",
   "metadata": {},
   "source": [
    "# Answer 6"
   ]
  },
  {
   "cell_type": "code",
   "execution_count": 31,
   "id": "037bd30a",
   "metadata": {},
   "outputs": [
    {
     "name": "stdout",
     "output_type": "stream",
     "text": [
      "8X3 integer array:\n",
      "[[10 11 12]\n",
      " [13 14 15]\n",
      " [16 17 18]\n",
      " [19 20 21]\n",
      " [22 23 24]\n",
      " [25 26 27]\n",
      " [28 29 30]\n",
      " [31 32 33]]\n",
      "\n",
      "Dividing 8X3 array into 4 sub array\n",
      "[array([[10, 11, 12],\n",
      "       [13, 14, 15]]), array([[16, 17, 18],\n",
      "       [19, 20, 21]]), array([[22, 23, 24],\n",
      "       [25, 26, 27]]), array([[28, 29, 30],\n",
      "       [31, 32, 33]])]\n"
     ]
    }
   ],
   "source": [
    "print(\"8X3 integer array:\")\n",
    "myArr = np.arange(10, 34, 1)\n",
    "myArr = myArr.reshape(8,3)\n",
    "print (myArr)\n",
    "\n",
    "print(\"\\nDividing 8X3 array into 4 sub array\")\n",
    "subArr = np.split(myArr, 4) \n",
    "print(subArr)"
   ]
  },
  {
   "cell_type": "markdown",
   "id": "835073c8",
   "metadata": {},
   "source": [
    "# Answer 7"
   ]
  },
  {
   "cell_type": "code",
   "execution_count": 34,
   "id": "cb34d04f",
   "metadata": {},
   "outputs": [
    {
     "name": "stdout",
     "output_type": "stream",
     "text": [
      "Original array\n",
      "[[34 43 73]\n",
      " [82 22 12]\n",
      " [53 94 66]]\n",
      "Sorting array by second row\n",
      "[[73 43 34]\n",
      " [12 22 82]\n",
      " [66 94 53]]\n",
      "Sorting array by second column\n",
      "[[82 22 12]\n",
      " [34 43 73]\n",
      " [53 94 66]]\n"
     ]
    }
   ],
   "source": [
    "def sortingArr(myArr):\n",
    "    rowSort = myArr[:,myArr[1,:].argsort()]\n",
    "    print(\"Sorting array by second row\")\n",
    "    print(rowSort)\n",
    "    colSort = myArr[myArr[:,1].argsort()]\n",
    "    print(\"Sorting array by second column\")\n",
    "    print(colSort)\n",
    "\n",
    "\n",
    "myArr = np.array([[34,43,73],[82,22,12],[53,94,66]])\n",
    "print(\"Original array\") \n",
    "print (myArr)\n",
    "sortingArr(myArr)"
   ]
  },
  {
   "cell_type": "markdown",
   "id": "e1500076",
   "metadata": {},
   "source": [
    "# Answer 8"
   ]
  },
  {
   "cell_type": "code",
   "execution_count": 40,
   "id": "5859b5e2",
   "metadata": {},
   "outputs": [
    {
     "name": "stdout",
     "output_type": "stream",
     "text": [
      "Original array\n",
      "[[34 43 73]\n",
      " [82 22 12]\n",
      " [53 94 66]]\n",
      "\n",
      "Max from Axis 0 [82 94 73]\n",
      "Min from Axis 1 [34 12 53]\n"
     ]
    }
   ],
   "source": [
    "def maxAxisZero(myArr):\n",
    "    result = np.amax(myArr, 0) \n",
    "    print(\"Max from Axis 0\",result)\n",
    "\n",
    "def minAxisOne(myArr):\n",
    "    result = np.amin(myArr, 1) \n",
    "    print(\"Min from Axis 1\",result)\n",
    "\n",
    "print(\"Original array\")\n",
    "myArr = np.array([[34,43,73],[82,22,12],[53,94,66]]) \n",
    "print(myArr)\n",
    "print(\"\\n\",end=\"\")\n",
    "\n",
    "maxAxisZero(myArr)\n",
    "minAxisOne(myArr)"
   ]
  },
  {
   "cell_type": "code",
   "execution_count": null,
   "id": "0e28b5d2",
   "metadata": {},
   "outputs": [],
   "source": []
  }
 ],
 "metadata": {
  "kernelspec": {
   "display_name": "Python 3",
   "language": "python",
   "name": "python3"
  },
  "language_info": {
   "codemirror_mode": {
    "name": "ipython",
    "version": 3
   },
   "file_extension": ".py",
   "mimetype": "text/x-python",
   "name": "python",
   "nbconvert_exporter": "python",
   "pygments_lexer": "ipython3",
   "version": "3.8.8"
  }
 },
 "nbformat": 4,
 "nbformat_minor": 5
}
