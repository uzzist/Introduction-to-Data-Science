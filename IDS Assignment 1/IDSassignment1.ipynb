{
 "cells": [
  {
   "cell_type": "markdown",
   "id": "e860e150",
   "metadata": {},
   "source": [
    "# Muhammad Uzair\n",
    "# L1F18BSCS0311"
   ]
  },
  {
   "cell_type": "markdown",
   "id": "2a691e7a",
   "metadata": {},
   "source": [
    "# Answer 1"
   ]
  },
  {
   "cell_type": "code",
   "execution_count": 2,
   "id": "7b30f18a",
   "metadata": {},
   "outputs": [
    {
     "name": "stdout",
     "output_type": "stream",
     "text": [
      "Enter temperature in celcius: 85\n",
      "Enter temperature in fahrenheit: 85\n",
      "Temperature from celsius to fahrenheit:  185.0\n",
      "Temperature from fahrenheit to celsius:  29.444444444444443\n"
     ]
    }
   ],
   "source": [
    "celsius = float(input(\"Enter temperature in celcius: \"))\n",
    "feh = float(input(\"Enter temperature in fahrenheit: \"))\n",
    "\n",
    "f2 = (9 * celsius + (32 * 5)) / 5\n",
    "c2 = (5 * (feh - 32)) / 9\n",
    "\n",
    "print(\"Temperature from celsius to fahrenheit: \",f2)\n",
    "print(\"Temperature from fahrenheit to celsius: \",c2)"
   ]
  },
  {
   "cell_type": "markdown",
   "id": "1f681308",
   "metadata": {},
   "source": [
    "# Answer 2"
   ]
  },
  {
   "cell_type": "code",
   "execution_count": 3,
   "id": "eaf11fd7",
   "metadata": {},
   "outputs": [
    {
     "name": "stdout",
     "output_type": "stream",
     "text": [
      "Value is in range\n",
      "Number is divisble by 7 and multiple of 5\n"
     ]
    }
   ],
   "source": [
    "def checkNumber(num):\n",
    "    if(num >= 1500) and (num <= 2700):\n",
    "        print('Value is in range')\n",
    "        if(num % 7 == 0) and (num % 5 == 0):\n",
    "            print(\"Number is divisble by 7 and multiple of 5\")\n",
    "        else:\n",
    "            print(\"Number doesn't fulfill the requirements\")\n",
    "    else:\n",
    "        print(num,\"is not in range\")\n",
    "    \n",
    "checkNumber(2100)"
   ]
  },
  {
   "cell_type": "markdown",
   "id": "027141ef",
   "metadata": {},
   "source": [
    "# Answer 3"
   ]
  },
  {
   "cell_type": "code",
   "execution_count": 4,
   "id": "27df4cb7",
   "metadata": {},
   "outputs": [
    {
     "name": "stdout",
     "output_type": "stream",
     "text": [
      "Maximum value: 66 \n",
      "Minimum Value: -2\n"
     ]
    }
   ],
   "source": [
    "def maxMin(numList):\n",
    "    return [max(numList), min(numList)]\n",
    "\n",
    "numList = [12,3,24,55,1,2,6,-2,43,66]\n",
    "\n",
    "answers = maxMin(numList)\n",
    "print(\"Maximum value:\",answers[0],\"\\nMinimum Value:\",answers[1])"
   ]
  },
  {
   "cell_type": "markdown",
   "id": "256d61a6",
   "metadata": {},
   "source": [
    "# Answer 4"
   ]
  },
  {
   "cell_type": "code",
   "execution_count": 7,
   "id": "8dc1535d",
   "metadata": {},
   "outputs": [
    {
     "name": "stdout",
     "output_type": "stream",
     "text": [
      "Second maximum value: 55 \n",
      "Second minimum Value: 1\n"
     ]
    }
   ],
   "source": [
    "def secondMinMax(numList):\n",
    "    secondMax = min(numList)\n",
    "    secondMin = max(numList)\n",
    "    \n",
    "    for i in numList:\n",
    "        if (i > secondMax and i < max(numList)):\n",
    "            secondMax = i\n",
    "        if (i < secondMin and i > min(numList)):\n",
    "            secondMin = i\n",
    "            \n",
    "    return [secondMax, secondMin]\n",
    "\n",
    "numList = [12,3,24,55,1,2,6,-2,43,66]\n",
    "\n",
    "answers = secondMinMax(numList)\n",
    "print(\"Second maximum value:\",answers[0],\"\\nSecond minimum Value:\",answers[1])"
   ]
  },
  {
   "cell_type": "markdown",
   "id": "199dac17",
   "metadata": {},
   "source": [
    "# Answer 5"
   ]
  },
  {
   "cell_type": "code",
   "execution_count": 22,
   "id": "59d5527b",
   "metadata": {},
   "outputs": [
    {
     "name": "stdout",
     "output_type": "stream",
     "text": [
      "Mean: 28.928571428571427\n",
      "Median: 33.5\n",
      "Mode: 43\n",
      "Variance: 8190.928571428571\n"
     ]
    }
   ],
   "source": [
    "def meanCalculation(numList):\n",
    "    sumOfTerms = 0\n",
    "    numOfTerms = 0\n",
    "    \n",
    "    for i in numList:\n",
    "        sumOfTerms = sumOfTerms + i\n",
    "        numOfTerms += 1\n",
    "    \n",
    "    mean = sumOfTerms / numOfTerms\n",
    "    \n",
    "    print(\"Mean:\",mean)\n",
    "\n",
    "def medianCalculation(numList):\n",
    "    numList.sort()\n",
    "    \n",
    "    if (len(numList) % 2 != 0):\n",
    "        median = numList[len(numList)//2]\n",
    "        print(\"Median:\",median)\n",
    "    else:\n",
    "        val1 = numList[len(numList)//2-1]\n",
    "        val2 = numList[len(numList)//2]\n",
    "        median = (val1+val2) / 2\n",
    "        print(\"Median:\",median)\n",
    "        \n",
    "def modeCalculation(numList):\n",
    "    mode = 0\n",
    "    count = 0\n",
    "    occurences = list()\n",
    "    done = list()\n",
    "    for i in range(len(numList)):\n",
    "        count = 0\n",
    "        for j in range(len(numList)):\n",
    "            if(numList[i] == numList[j] and numList[i] not in done):\n",
    "                count += 1\n",
    "        occurences.append(count)\n",
    "        done.append(numList[i])\n",
    "    maxOccurences = max(occurences)\n",
    "    for k in range(len(occurences)):\n",
    "        if(occurences[k] == maxOccurences):\n",
    "            print(\"Mode:\",numList[k])\n",
    "        \n",
    "def varianceCalculation(numList):\n",
    "    sumOfTerms = 0\n",
    "    numOfTerms = 0\n",
    "    \n",
    "    for i in numList:\n",
    "        sumOfTerms = sumOfTerms + i\n",
    "        numOfTerms += 1\n",
    "    \n",
    "    mean = sumOfTerms / numOfTerms\n",
    "    \n",
    "    variance = 0\n",
    "    \n",
    "    for i in numList:\n",
    "        variance = variance + ((i-mean)**2)\n",
    "    print(\"Variance:\",variance)\n",
    "\n",
    "numList = [12,3,24,55,1,2,6,-2,43,66,66,43,43,43]\n",
    "meanCalculation(numList)\n",
    "medianCalculation(numList)\n",
    "modeCalculation(numList)\n",
    "varianceCalculation(numList)"
   ]
  },
  {
   "cell_type": "markdown",
   "id": "d462c6f7",
   "metadata": {},
   "source": [
    "# Answer 6"
   ]
  },
  {
   "cell_type": "code",
   "execution_count": 3,
   "id": "51ad8f69",
   "metadata": {},
   "outputs": [
    {
     "name": "stdout",
     "output_type": "stream",
     "text": [
      "{}\n"
     ]
    }
   ],
   "source": [
    "str1 = \"a quick brown fox jumps over the lazy dog\"\n",
    "str2 = \"this course can be complex but not complicated if learnt properly\"\n",
    "str3 = \"the boeing plane max 8 was grounded all around the world for technical problems\"\n",
    "\n",
    "str1Words = str1.split()\n",
    "str2Words = str2.split()\n",
    "str3Words = str3.split()\n",
    "\n",
    "common = dict()\n",
    "\n",
    "for word in str1Words:\n",
    "    if(word in str2Words and word in str3Words):\n",
    "        count1 = 0\n",
    "        count2 = 0\n",
    "        count3 = 0\n",
    "        common[word] = []\n",
    "        for index in range(len(str1Words)):\n",
    "            if (str1Words[index] == word):\n",
    "                count1 +=1\n",
    "        for index in range(len(str2Words)):\n",
    "            if (str2Words[index] == word):\n",
    "                count2 +=1\n",
    "        for index in range(len(str3Words)):\n",
    "            if (str3Words[index] == word):\n",
    "                count3 +=1\n",
    "        common[word].append([count1,count2,count3])\n",
    "        \n",
    "print(common)"
   ]
  },
  {
   "cell_type": "markdown",
   "id": "114e8b10",
   "metadata": {},
   "source": [
    "# Answer 7"
   ]
  },
  {
   "cell_type": "code",
   "execution_count": 9,
   "id": "1a4f6638",
   "metadata": {},
   "outputs": [
    {
     "name": "stdout",
     "output_type": "stream",
     "text": [
      "Enter your status OT or M: ot\n",
      "Enter your entry hour: 20.00\n",
      "Enter day: tuesday\n",
      "Enter your age: 22.00\n",
      "Ticket price: 12.0\n"
     ]
    }
   ],
   "source": [
    "workingDays = ['monday','tuesday', 'wednesday', 'thursday', 'friday']\n",
    "weekendDays = ['saturday', 'sunday']\n",
    "\n",
    "def ticketPrice(status, entryHour, day, age):\n",
    "    if(status.lower() == \"ot\" and day.lower() in workingDays and (entryHour >= 6.00 and entryHour <= 19.00) and (age >= 0.0 and age <= 16.00)):\n",
    "        return 5.00\n",
    "    elif(status.lower() == \"ot\" and day.lower() in workingDays and (entryHour >= 6.00 and entryHour <= 19.00) and (age >= 16.01 and age <= 60.00)):\n",
    "        return 10.00\n",
    "    elif(status.lower() == \"ot\" and day.lower() in workingDays and (entryHour >= 6.00 and entryHour <= 19.00) and (age >= 60.01 and age <= 120.00)):\n",
    "        return 8.00\n",
    "    elif(status.lower() == \"ot\" and day.lower() in workingDays and (entryHour >= 19.01 and entryHour <= 24.00) and (age >= 0.0 and age <= 16.00)):\n",
    "        return 6.00\n",
    "    elif(status.lower() == \"ot\" and day.lower() in workingDays and (entryHour >= 19.01 and entryHour <= 24.00) and (age >= 16.01 and age <= 60.00)):\n",
    "        return 12.00\n",
    "    elif(status.lower() == \"ot\" and day.lower() in workingDays and (entryHour >= 19.01 and entryHour <= 24.00) and (age >= 60.01 and age <= 120.00)):\n",
    "        return 8.00\n",
    "    elif(status.lower() == \"m\" and day.lower() in workingDays and (entryHour >= 6.00 and entryHour <= 19.00) and (age >= 0.0 and age <= 16.00)):\n",
    "        return 2.50\n",
    "    elif(status.lower() == \"m\" and day.lower() in workingDays and (entryHour >= 6.00 and entryHour <= 19.00) and (age >= 16.01 and age <= 60.00)):\n",
    "        return 5.00\n",
    "    elif(status.lower() == \"m\" and day.lower() in workingDays and (entryHour >= 6.00 and entryHour <= 19.00) and (age >= 60.01 and age <= 120.00)):\n",
    "        return 4.00\n",
    "    elif(status.lower() == \"m\" and day.lower() in workingDays and (entryHour >= 19.01 and entryHour <= 24.00) and (age >= 0.0 and age <= 16.00)):\n",
    "        return 3.00\n",
    "    elif(status.lower() == \"m\" and day.lower() in workingDays and (entryHour >= 19.01 and entryHour <= 24.00) and (age >= 16.01 and age <= 60.00)):\n",
    "        return 6.00\n",
    "    elif(status.lower() == \"m\" and day.lower() in workingDays and (entryHour >= 19.01 and entryHour <= 24.00) and (age >= 60.01 and age <= 120.00)):\n",
    "        return 4.00\n",
    "    elif(status.lower() == \"ot\" and day.lower() in weekendDays and (entryHour >= 6.00 and entryHour <= 19.00) and (age >= 0.0 and age <= 16.00)):\n",
    "        return 5.00\n",
    "    elif(status.lower() == \"ot\" and day.lower() in weekendDays and (entryHour >= 6.00 and entryHour <= 19.00) and (age >= 16.01 and age <= 60.00)):\n",
    "        return 10.00\n",
    "    elif(status.lower() == \"ot\" and day.lower() in weekendDays and (entryHour >= 6.00 and entryHour <= 19.00) and (age >= 60.01 and age <= 120.00)):\n",
    "        return 8.00\n",
    "    elif(status.lower() == \"ot\" and day.lower() in weekendDays and (entryHour >= 19.01 and entryHour <= 24.00) and (age >= 0.0 and age <= 16.00)):\n",
    "        return 6.00\n",
    "    elif(status.lower() == \"ot\" and day.lower() in weekendDays and (entryHour >= 19.01 and entryHour <= 24.00) and (age >= 16.01 and age <= 60.00)):\n",
    "        return 12.00\n",
    "    elif(status.lower() == \"ot\" and day.lower() in weekendDays and (entryHour >= 19.01 and entryHour <= 24.00) and (age >= 60.01 and age <= 120.00)):\n",
    "        return 8.00\n",
    "    elif(status.lower() == \"m\" and day.lower() in weekendDays and (entryHour >= 6.00 and entryHour <= 19.00) and (age >= 0.0 and age <= 16.00)):\n",
    "        return 2.50\n",
    "    elif(status.lower() == \"m\" and day.lower() in weekendDays and (entryHour >= 6.00 and entryHour <= 19.00) and (age >= 16.01 and age <= 60.00)):\n",
    "        return 5.00\n",
    "    elif(status.lower() == \"m\" and day.lower() in weekendDays and (entryHour >= 6.00 and entryHour <= 19.00) and (age >= 60.01 and age <= 120.00)):\n",
    "        return 4.00\n",
    "    elif(status.lower() == \"m\" and day.lower() in weekendDays and (entryHour >= 19.01 and entryHour <= 24.00) and (age >= 0.0 and age <= 16.00)):\n",
    "        return 3.00\n",
    "    elif(status.lower() == \"m\" and day.lower() in weekendDays and (entryHour >= 19.01 and entryHour <= 24.00) and (age >= 16.01 and age <= 60.00)):\n",
    "        return 6.00\n",
    "    elif(status.lower() == \"m\" and day.lower() in weekendDays and (entryHour >= 19.01 and entryHour <= 24.00) and (age >= 60.01 and age <= 120.00)):\n",
    "        return 4.00\n",
    "    else:\n",
    "        return \"Invalid entries\"\n",
    "    \n",
    "\n",
    "\n",
    "status = input(\"Enter your status OT or M: \")\n",
    "entryHour = float(input(\"Enter your entry hour: \"))\n",
    "day = input(\"Enter day: \")\n",
    "age = float(input(\"Enter your age: \"))\n",
    "\n",
    "print(\"Ticket price:\",ticketPrice(status, entryHour, day, age))"
   ]
  },
  {
   "cell_type": "code",
   "execution_count": null,
   "id": "14bb822e",
   "metadata": {},
   "outputs": [],
   "source": []
  }
 ],
 "metadata": {
  "kernelspec": {
   "display_name": "Python 3",
   "language": "python",
   "name": "python3"
  },
  "language_info": {
   "codemirror_mode": {
    "name": "ipython",
    "version": 3
   },
   "file_extension": ".py",
   "mimetype": "text/x-python",
   "name": "python",
   "nbconvert_exporter": "python",
   "pygments_lexer": "ipython3",
   "version": "3.8.8"
  }
 },
 "nbformat": 4,
 "nbformat_minor": 5
}
